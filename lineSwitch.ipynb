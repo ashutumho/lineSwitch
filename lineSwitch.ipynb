{
 "cells": [
  {
   "cell_type": "code",
   "execution_count": 1,
   "metadata": {
    "collapsed": false
   },
   "outputs": [],
   "source": [
    "import turtle\n",
    "import time\n",
    "import numpy as np\n",
    "import random\n",
    "# import winsound"
   ]
  },
  {
   "cell_type": "code",
   "execution_count": 2,
   "metadata": {
    "collapsed": true
   },
   "outputs": [],
   "source": [
    "wn = turtle.Screen()\n",
    "wn.bgcolor(\"black\")\n",
    "wn.setup(width=600,height=600)\n",
    "wn.title(\"Line Plot\")\n",
    "wn.tracer(0)"
   ]
  },
  {
   "cell_type": "code",
   "execution_count": 3,
   "metadata": {
    "collapsed": false
   },
   "outputs": [],
   "source": [
    "#creating drawing pen\n",
    "pen = turtle.Turtle()\n",
    "pen.hideturtle()\n",
    "pen.speed(0)\n",
    "pen.pensize(3)"
   ]
  },
  {
   "cell_type": "code",
   "execution_count": 4,
   "metadata": {
    "collapsed": true
   },
   "outputs": [],
   "source": [
    "def plotDot(pen,coDic):\n",
    "    pen.color(\"red\")\n",
    "    pen.setheading(0)\n",
    "    pen.pensize(4)\n",
    "    for ii,jj in coDic:\n",
    "        pen.penup()\n",
    "        pen.goto(ii,jj)\n",
    "\n",
    "        pen.pendown()\n",
    "        pen.dot()\n",
    "    "
   ]
  },
  {
   "cell_type": "code",
   "execution_count": 17,
   "metadata": {
    "collapsed": true
   },
   "outputs": [],
   "source": [
    "def plotDotBlinck(pen,ii,jj):\n",
    "    pen.color(\"blue\")\n",
    "    pen.setheading(0)\n",
    "    pen.pensize(5)\n",
    "    \n",
    "    pen.penup()\n",
    "    pen.goto(ii,jj)\n",
    "\n",
    "    pen.pendown()\n",
    "    pen.dot()\n",
    "#     wn.update()\n",
    "#     pen.clear()    \n",
    "#     frequency = 2500  # Set Frequency To 2500 Hertz\n",
    "#     duration = 1000  # Set Duration To 1000 ms == 1 second\n",
    "#     winsound.Beep(frequency, duration)\n",
    "    "
   ]
  },
  {
   "cell_type": "code",
   "execution_count": 6,
   "metadata": {
    "collapsed": false
   },
   "outputs": [],
   "source": [
    "def drawLine(l,pen,angle,x,y):\n",
    "    pen.pensize(2)\n",
    "    pen.up()\n",
    "    pen.goto(x,y)    \n",
    "    pen.color(\"green\")\n",
    "    pen.setheading(180)\n",
    "    pen.rt(angle)\n",
    "    pen.pendown()\n",
    "    pen.fd(l)\n",
    "    pen.bk(2*l)\n",
    "    pen.fd(l)\n"
   ]
  },
  {
   "cell_type": "code",
   "execution_count": 7,
   "metadata": {
    "collapsed": true
   },
   "outputs": [],
   "source": [
    "def distList(ii,ang,tempo):\n",
    "    distList = []\n",
    "    slopeOffset = [-1,0,1]\n",
    "    slope = np.tan(1*np.pi-ii*np.pi/180-ang)\n",
    "    if slope == 0:\n",
    "        slope = 0.000000001\n",
    "    sData = slope+1/slope\n",
    "#     slopeTu = np.sin(1*np.pi-ii*np.pi/180-ang)\n",
    "    slopeTu = -1/np.cos(1*np.pi-ii*np.pi/180-ang)\n",
    "#     print(slopeTu)\n",
    "#     slopeTu = np.sqrt(1+np.square(1/slope)) \n",
    "    for jj in slopeOffset:\n",
    "        #working\n",
    "        xPrime = (tempo[:,[1]]+1/slope*tempo[:,[0]]-1*jj*slopeTu)/sData\n",
    "        yPrime = slope*(xPrime)+(jj*slopeTu)\n",
    "#         xPrime = (tempo[:,[1]]+1/slope*tempo[:,[0]]-1*jj*slopeTu)/sData\n",
    "#         yPrime = slope*(xPrime)+(jj*slopeTu)\n",
    "        dist = np.sqrt(np.square(xPrime-tempo[:,[0]])+np.square(yPrime-tempo[:,[1]]))\n",
    "        dist = dist.round(3)\n",
    "        distList.append(dist)\n",
    "    return np.array(distList)"
   ]
  },
  {
   "cell_type": "code",
   "execution_count": 62,
   "metadata": {
    "collapsed": false
   },
   "outputs": [
    {
     "data": {
      "text/plain": [
       "array([[  -1, -114],\n",
       "       [ -17,  115],\n",
       "       [  90, -107],\n",
       "       [  34, -134],\n",
       "       [ -42,  -70],\n",
       "       [ -92,  -32],\n",
       "       [  85,   27],\n",
       "       [  83, -136],\n",
       "       [  26,   59],\n",
       "       [ 144,   98],\n",
       "       [  23,  117],\n",
       "       [-104,  -26],\n",
       "       [-141,   -7],\n",
       "       [ -55,  134],\n",
       "       [ -60, -113]])"
      ]
     },
     "execution_count": 62,
     "metadata": {},
     "output_type": "execute_result"
    }
   ],
   "source": [
    "# temp = np.array([[160,50],[0,0],[100,100],[0,100],[100,5]])\n",
    "numb = 15\n",
    "temp = np.random.randint(-150,150,[numb,2])\n",
    "# temp = np.array([[-200,200],[-150,78],[0,0],[100,100],[-100,100],[100,-150]])\n",
    "temp"
   ]
  },
  {
   "cell_type": "code",
   "execution_count": 63,
   "metadata": {
    "collapsed": false,
    "scrolled": true
   },
   "outputs": [
    {
     "name": "stdout",
     "output_type": "stream",
     "text": [
      "1.5 in-condition\n",
      "1.5 2.0 [14]\n",
      "-------------\n",
      "9.0 in-condition\n",
      "9.0 9.5 [7]\n",
      "-------------\n",
      "14.0 in-condition\n",
      "14.0 14.5 [0]\n",
      "-------------\n",
      "15.5 in-condition\n",
      "continue\n",
      "17.0 in-condition\n",
      "continue\n",
      "28.0 in-condition\n",
      "28.0 28.5 [3]\n",
      "-------------\n",
      "29.5 in-condition\n",
      "continue\n",
      "31.0 in-condition\n",
      "continue\n",
      "36.0 in-condition\n",
      "36.0 36.5 [12]\n",
      "-------------\n",
      "37.5 in-condition\n",
      "37.5 38.0 [0]\n",
      "-------------\n",
      "40.0 in-condition\n",
      "40.0 40.5 [11]\n",
      "-------------\n",
      "62.5 in-condition\n",
      "62.5 63.0 [14]\n",
      "-------------\n",
      "64.0 in-condition\n",
      "continue\n",
      "65.5 in-condition\n",
      "continue\n",
      "67.5 in-condition\n",
      "67.5 68.0 [5]\n",
      "-------------\n",
      "69.0 in-condition\n",
      "continue\n",
      "70.5 in-condition\n",
      "continue\n",
      "102.5 in-condition\n",
      "102.5 103.0 [13]\n",
      "-------------\n",
      "107.0 in-condition\n",
      "107.0 107.5 [11]\n",
      "-------------\n",
      "121.5 in-condition\n",
      "121.5 122.0 [1]\n",
      "-------------\n",
      "135.0 in-condition\n",
      "135.0 135.5 [12]\n",
      "-------------\n",
      "142.5 in-condition\n",
      "142.5 143.0 [10]\n",
      "-------------\n",
      "175.0 in-condition\n",
      "175.0 175.5 [1]\n",
      "-------------\n",
      "176.5 in-condition\n",
      "continue\n",
      "178.0 in-condition\n",
      "continue\n",
      "185.5 in-condition\n",
      "185.5 186.0 [9]\n",
      "-------------\n",
      "188.5 in-condition\n",
      "188.5 189.0 [10]\n",
      "-------------\n",
      "191.5 in-condition\n",
      "191.5 192.0 [13]\n",
      "-------------\n",
      "193.0 in-condition\n",
      "continue\n",
      "194.5 in-condition\n",
      "continue\n",
      "205.0 in-condition\n",
      "205.0 205.5 [1]\n",
      "-------------\n",
      "206.5 in-condition\n",
      "continue\n",
      "208.0 in-condition\n",
      "continue\n",
      "220.5 in-condition\n",
      "220.5 221.0 [6]\n",
      "-------------\n",
      "235.0 in-condition\n",
      "235.0 235.5 [10]\n",
      "-------------\n",
      "253.0 in-condition\n",
      "253.0 253.5 [2]\n",
      "-------------\n",
      "267.5 in-condition\n",
      "267.5 268.0 [6]\n",
      "-------------\n",
      "270.5 in-condition\n",
      "270.5 271.0 [7]\n",
      "-------------\n",
      "281.0 in-condition\n",
      "281.0 281.5 [2]\n",
      "-------------\n",
      "282.5 in-condition\n",
      "continue\n",
      "284.0 in-condition\n",
      "continue\n",
      "285.5 in-condition\n",
      "continue\n",
      "287.0 in-condition\n",
      "continue\n",
      "333.0 in-condition\n",
      "333.0 333.5 [3]\n",
      "-------------\n",
      "334.5 in-condition\n",
      "continue\n",
      "336.0 in-condition\n",
      "continue\n",
      "1.0 in-condition\n",
      "1.0 361.5 [7]\n",
      "-------------\n",
      "2.5 in-condition\n",
      "continue\n",
      "4.0 in-condition\n",
      "continue\n",
      "9.0 in-condition\n",
      "9.0 369.5 [14]\n",
      "-------------\n",
      "12.0 in-condition\n",
      "12.0 372.5 [3]\n",
      "-------------\n",
      "28.0 in-condition\n",
      "28.0 388.5 [0]\n",
      "-------------\n",
      "29.5 in-condition\n",
      "continue\n",
      "31.0 in-condition\n",
      "continue\n",
      "37.0 in-condition\n",
      "37.0 397.5 [12]\n",
      "-------------\n",
      "52.0 in-condition\n",
      "52.0 412.5 [14]\n",
      "-------------\n",
      "62.5 in-condition\n",
      "62.5 423.0 [11]\n",
      "-------------\n",
      "64.0 in-condition\n",
      "continue\n",
      "65.5 in-condition\n",
      "continue\n",
      "107.0 in-condition\n",
      "107.0 467.5 [13]\n",
      "-------------\n",
      "121.0 in-condition\n",
      "121.0 481.5 [12]\n",
      "-------------\n",
      "135.0 in-condition\n",
      "135.0 495.5 [1]\n",
      "-------------\n",
      "175.0 in-condition\n",
      "175.0 535.5 [10]\n",
      "-------------\n",
      "176.5 in-condition\n",
      "continue\n",
      "178.0 in-condition\n",
      "continue\n",
      "188.5 in-condition\n",
      "188.5 549.0 [9]\n",
      "-------------\n",
      "190.0 in-condition\n",
      "190.0 550.5 [13]\n",
      "-------------\n",
      "191.5 in-condition\n",
      "191.5 552.0 [10]\n",
      "-------------\n",
      "193.0 in-condition\n",
      "continue\n",
      "194.5 in-condition\n",
      "continue\n",
      "235.0 in-condition\n",
      "235.0 595.5 [6]\n",
      "-------------\n",
      "267.5 in-condition\n",
      "267.5 628.0 [2]\n",
      "-------------\n",
      "281.0 in-condition\n",
      "281.0 641.5 [7]\n",
      "-------------\n",
      "282.5 in-condition\n",
      "continue\n",
      "284.0 in-condition\n",
      "continue\n",
      "285.5 in-condition\n",
      "continue\n",
      "287.0 in-condition\n",
      "continue\n"
     ]
    }
   ],
   "source": [
    "tempo = temp\n",
    "tempo = tempo-tempo[0,:]\n",
    "index = np.array([0])\n",
    "x,y = temp[index,:][0]\n",
    "indList=[np.zeros([1]),np.zeros([1])]\n",
    "count = 0\n",
    "ang = 0\n",
    "prvInd = 0\n",
    "lastInd = 0\n",
    "indKyu =[np.zeros([1,2]),np.zeros([1,2])] \n",
    "for _ in np.arange(0,360.5*2,0.5):#range(0,360,0.5):\n",
    "    ii = count%360\n",
    "#     print(ii)\n",
    "    count += 0.5\n",
    "#     for ii in np.arange(0,360.5,0.5):\n",
    "    drawLine(600,pen,ii,x,y)\n",
    "    plotDot(pen,temp.tolist())\n",
    "    plotDotBlinck(pen,x,y)\n",
    "    wn.update()\n",
    "    time.sleep(0.005)\n",
    "    pen.clear()\n",
    "    dist = distList(ii,ang,tempo)\n",
    "    offsetSum = np.sum(dist[[0,2],:],axis=0)\n",
    "    theta = np.array(offsetSum-offsetSum[index])\n",
    "#         theta = theta.round(1)\n",
    "    indFind = np.where(theta <= 1)[0]\n",
    "#         print(ii)\n",
    "#         print(dist)\n",
    "\n",
    "    if len(indFind)>=2 and np.abs(ii-lastInd) > 1.0:\n",
    "        print(ii,'in-condition')\n",
    "        lastInd = ii\n",
    "        indNxt = np.where(indFind != index)\n",
    "#             print(tempo[indFind[indNxt]])\n",
    "        index = indFind[indNxt]\n",
    "        if len(index) > 1:\n",
    "            print('2 index')\n",
    "            ll= np.where(theta[index] == np.min(theta[index]))[0]\n",
    "            if len(ll) > 1:\n",
    "                indNew = np.sum(np.square(tempo[ll]),axis=1)\n",
    "                indNew = np.where(indNew == np.min(indNew))[0]\n",
    "                index = index[indNew]\n",
    "            else:\n",
    "                index = index[ll]\n",
    "        indList.append(index)\n",
    "#             print(indList,len(indList))\n",
    "        aa = indList.pop(0)\n",
    "        if aa == index:\n",
    "            print('continue')\n",
    "            continue\n",
    "#             print(indList,len(indList),aa)\n",
    "        x,y = temp[index,:][0]\n",
    "#             plotDotBlinck(pen,x,y)\n",
    "\n",
    "#             print(tempo[index,:][0])\n",
    "        tempo = tempo-tempo[index,:]\n",
    "#         ang += np.pi\n",
    "\n",
    "        print(ii,count,index)\n",
    "#             print(temp[index,:][0])\n",
    "\n",
    "        print('-------------')\n",
    "\n"
   ]
  },
  {
   "cell_type": "code",
   "execution_count": null,
   "metadata": {
    "collapsed": false
   },
   "outputs": [],
   "source": [
    "indNew = np.sum(np.square(tempo[ll]-[x,y]),axis=1)\n",
    "np.where(indNew == np.min(indNew))[0]"
   ]
  },
  {
   "cell_type": "code",
   "execution_count": null,
   "metadata": {
    "collapsed": false
   },
   "outputs": [],
   "source": [
    "theta[index]"
   ]
  },
  {
   "cell_type": "code",
   "execution_count": null,
   "metadata": {
    "collapsed": false
   },
   "outputs": [],
   "source": [
    "tempo[index]"
   ]
  },
  {
   "cell_type": "code",
   "execution_count": null,
   "metadata": {
    "collapsed": false
   },
   "outputs": [],
   "source": [
    "print(x,y)"
   ]
  },
  {
   "cell_type": "code",
   "execution_count": 21,
   "metadata": {
    "collapsed": false
   },
   "outputs": [
    {
     "data": {
      "text/plain": [
       "3.5"
      ]
     },
     "execution_count": 21,
     "metadata": {},
     "output_type": "execute_result"
    }
   ],
   "source": [
    "3.5%360"
   ]
  },
  {
   "cell_type": "code",
   "execution_count": null,
   "metadata": {
    "collapsed": false
   },
   "outputs": [],
   "source": [
    "ll= np.where(theta[index] == np.min(theta[index]))[0]\n",
    "ll"
   ]
  },
  {
   "cell_type": "code",
   "execution_count": null,
   "metadata": {
    "collapsed": false
   },
   "outputs": [],
   "source": [
    "theta[index]"
   ]
  },
  {
   "cell_type": "code",
   "execution_count": null,
   "metadata": {
    "collapsed": false
   },
   "outputs": [],
   "source": [
    "# import os\n",
    "# duration = 3  # seconds\n",
    "# freq = 4110  # Hz\n",
    "# os.system('play -nq -t alsa synth {} sine {}'.format(duration, freq))"
   ]
  },
  {
   "cell_type": "code",
   "execution_count": null,
   "metadata": {
    "collapsed": false
   },
   "outputs": [],
   "source": [
    "y\n"
   ]
  },
  {
   "cell_type": "code",
   "execution_count": null,
   "metadata": {
    "collapsed": false
   },
   "outputs": [],
   "source": [
    "theta = offsetSum-offsetSum[index]\n",
    "i,j = np.where( theta==np.min(theta[np.nonzero(theta)]))\n",
    "print(i,j)"
   ]
  },
  {
   "cell_type": "code",
   "execution_count": null,
   "metadata": {
    "collapsed": false
   },
   "outputs": [],
   "source": [
    "aa = [np.zeros(1),np.zeros(1)]"
   ]
  },
  {
   "cell_type": "code",
   "execution_count": null,
   "metadata": {
    "collapsed": false
   },
   "outputs": [],
   "source": [
    "aa.pop(0)"
   ]
  },
  {
   "cell_type": "markdown",
   "metadata": {},
   "source": []
  },
  {
   "cell_type": "code",
   "execution_count": null,
   "metadata": {
    "collapsed": false
   },
   "outputs": [],
   "source": [
    "yy = np.array(tempo[:,[1]],dtype=float)\n",
    "xx = np.array(tempo[:,[0]],dtype=float)\n",
    "zz = np.divide(yy,xx,out=np.zeros_like(yy),where=xx !=0)\n",
    "zz"
   ]
  },
  {
   "cell_type": "code",
   "execution_count": null,
   "metadata": {
    "collapsed": false
   },
   "outputs": [],
   "source": [
    "cc = np.array([])\n",
    "cc"
   ]
  },
  {
   "cell_type": "code",
   "execution_count": null,
   "metadata": {
    "collapsed": false
   },
   "outputs": [],
   "source": [
    "# temp = np.array([[160,50],[0,0],[100,100],[0,100],[100,5]])\n",
    "# # temp = np.random.randint(-150,150,[8,2])\n",
    "# temp = np.array([[-200,200],[3,78],[0,0],[100,100],[-100,100],[100,-150]])\n",
    "# temp"
   ]
  },
  {
   "cell_type": "code",
   "execution_count": null,
   "metadata": {
    "collapsed": false
   },
   "outputs": [],
   "source": [
    "def slopeCounter(index,coDic):\n",
    "    tempo = coDic\n",
    "    slope = -np.tan(index*np.pi/180)#np.tan(2*np.pi*(180+index)/360)\n",
    "    if slope == 0:\n",
    "        slope = 0.000000001\n",
    "    sData = slope+1/slope\n",
    "    xPrime = (tempo[:,[1]]+1/slope*tempo[:,[0]])/sData\n",
    "    yPrime = slope*xPrime\n",
    "    dist = np.sqrt(np.square(xPrime)+np.square(yPrime))\n",
    "    dist = dist.round(2)\n",
    "    sortDist = np.sort(dist,axis=0)\n",
    "#     print(sortDist)\n",
    "    ind = np.where(dist == sortDist[1])[0]\n",
    "    return dist,sortDist[1],ind,slope"
   ]
  },
  {
   "cell_type": "code",
   "execution_count": null,
   "metadata": {
    "collapsed": false
   },
   "outputs": [],
   "source": [
    "tempo = temp\n",
    "tempo = tempo-tempo[0,:]\n",
    "index = 1\n",
    "indPre = slopeCounter(index,tempo)\n",
    "x,y = temp[index,:]\n",
    "count = np.array([0,0])\n",
    "indKyu =[np.zeros([1,2]),np.zeros([1,2])] \n",
    "tempCount = 0\n",
    "for _ in range(1):\n",
    "    for ii in np.arange(0, 47, 0.5):\n",
    "        drawLine(600,pen,ii,x,y)\n",
    "        plotDot(pen,temp.tolist())\n",
    "        wn.update()\n",
    "        time.sleep(0.005)\n",
    "        pen.clear()\n",
    "        distM,dist,ind,slope = slopeCounter(ii,tempo)\n",
    "#         print(ind.view())\n",
    "        if len(ind) == 2:\n",
    "            print('boom')\n",
    "            inx = np.where(ind.view() != indPre)[0]\n",
    "            ind = ind[inx]\n",
    "            x,y = temp[ind,:][0]\n",
    "            tempo = tempo - tempo[ind,:][0]\n",
    "        print(ii,ind.view(),x,y)\n",
    "#             if dist.item() <=0.5:\n",
    "#                 print('tt')\n",
    "#                 x,y = temp[ind,:][0]\n",
    "#                 tempo = tempo - tempo[ind,:][0]\n",
    "#         indPre = ind\n",
    "#         xx,yy = tempo[ind,:][0]\n",
    "#         print(ii,dist,ind)\n",
    "\n",
    "#         print(ii,tempo[index,:],dist,tempo[ind,:][0],slope)\n",
    "        prevInd = ind\n",
    "# #         prevSlope = "
   ]
  },
  {
   "cell_type": "code",
   "execution_count": null,
   "metadata": {
    "collapsed": false
   },
   "outputs": [],
   "source": [
    "for ii in np.arange(0, 2, 0.5):\n",
    "    slope = np.tan(ii*np.pi/180)\n",
    "    print(ii,slope)"
   ]
  },
  {
   "cell_type": "code",
   "execution_count": null,
   "metadata": {
    "collapsed": false
   },
   "outputs": [],
   "source": [
    "type(ind)"
   ]
  },
  {
   "cell_type": "code",
   "execution_count": null,
   "metadata": {
    "collapsed": false
   },
   "outputs": [],
   "source": [
    "wn.mainloop()"
   ]
  },
  {
   "cell_type": "code",
   "execution_count": null,
   "metadata": {
    "collapsed": true
   },
   "outputs": [],
   "source": []
  },
  {
   "cell_type": "code",
   "execution_count": null,
   "metadata": {
    "collapsed": false
   },
   "outputs": [],
   "source": [
    "i,j = np.where( theta==np.min(theta[np.nonzero(theta)]))"
   ]
  },
  {
   "cell_type": "code",
   "execution_count": null,
   "metadata": {
    "collapsed": false
   },
   "outputs": [],
   "source": [
    "preX"
   ]
  },
  {
   "cell_type": "code",
   "execution_count": null,
   "metadata": {
    "collapsed": false
   },
   "outputs": [],
   "source": [
    "aa.append(temp[1,:])"
   ]
  },
  {
   "cell_type": "code",
   "execution_count": null,
   "metadata": {
    "collapsed": false
   },
   "outputs": [],
   "source": [
    "kk = aa.pop(0)"
   ]
  },
  {
   "cell_type": "code",
   "execution_count": null,
   "metadata": {
    "collapsed": false
   },
   "outputs": [],
   "source": [
    "#         print(ii)\n",
    "#         print(np.sum(dist[[0,2],:],axis=0))\n",
    "#         print('************')\n",
    "#         print(dist[1])\n",
    "#         print('------------')"
   ]
  },
  {
   "cell_type": "code",
   "execution_count": null,
   "metadata": {
    "collapsed": false
   },
   "outputs": [],
   "source": [
    "#         if pp == 1:\n",
    "#             print(ii,indFind)\n",
    "#         print(ii)\n",
    "# #         print(dist[:,2])\n",
    "#         print(theta.round(1))\n",
    "#         print('--------')\n",
    "#         i,j = np.where( theta==np.min(theta[np.nonzero(theta)]))\n",
    "#         print(ii,i,theta[i],offsetSum[i],index)\n",
    "#         indFind = np.where(offsetSum == offsetSum[index])[0]"
   ]
  },
  {
   "cell_type": "code",
   "execution_count": null,
   "metadata": {
    "collapsed": false
   },
   "outputs": [],
   "source": [
    "#         print(dist)\n",
    "#         if x >= 0: # positive x-axix\n",
    "#             if y >= 0:  \n",
    "#         print(indMax)\n",
    "#         print(tempo[indMax])\n",
    "#         print('*****')\n",
    "#         print(indMin)\n",
    "#         print(tempo[indMin])\n",
    "# # #         indClose = np.min(dist[np.nonzero(dist)])\n",
    "# # #         print(indClose)\n",
    "# #         print('----')\n",
    "#         print(dist[indMin])\n",
    "# #         print(-slope*tempo[:,[0]]+tempo[:,[1]])\n",
    "# #         print(dist[indMax])\n",
    "# #         print(dist[indMin])\n",
    "#         print('--------')\n",
    "#         if ff.view() <= 0.5:\n",
    "#             yy = np.array(tempo[:,[1]],dtype=float)\n",
    "#             xx = np.array(tempo[:,[0]],dtype=float)\n",
    "# #             zz = np.divide(xx,yy,out=np.zeros_like(xx),where=yy !=0)\n",
    "#             zz = np.divide(yy,xx,out=np.zeros_like(yy),where=xx !=0)\n",
    "# #             zz = np.tan(np.pi-zz*np.pi/180)\n",
    "#             print(ii,slope)\n",
    "#             print(zz)\n",
    "#             print(dist)\n",
    "#         tt = np.divide(tempo[])\n",
    "#         print(np.min([0.5,ff.view()]))\n",
    "#         if ii - lastInd != 0.5:\n",
    "#             if len(ind) >= 2 or ff.view() <= 0.5 :\n",
    "#                 print(ii,'in loop')\n",
    "#                 tempInd = index\n",
    "#                 if len(ind) >= 2:\n",
    "#                     index = np.where(ind != index)[0]\n",
    "#                     index = ind[index]\n",
    "#                 else:\n",
    "#                     print('dd')\n",
    "#                     index = ind\n",
    "#                 if len(index) >= 2:\n",
    "#                     ee = np.where(index == np.min(index))\n",
    "#                     index = index[ee]\n",
    "#                 print(ind,index)\n",
    "#                 if index != prvInd:\n",
    "#                     tempo = tempo-tempo[index,:][0]\n",
    "#                     x,y = temp[index,:][0]\n",
    "#                     if preX != x and preY != y:\n",
    "#                         ang += np.pi\n",
    "#                         lastInd = ii\n",
    "#                         print('zzz')\n",
    "#                     print('yo')\n",
    "#                     prvInd = index\n",
    "# #                 lastInd = ii\n",
    "#                 preX = x\n",
    "#                 preY = y\n",
    "            "
   ]
  },
  {
   "cell_type": "code",
   "execution_count": null,
   "metadata": {
    "collapsed": true
   },
   "outputs": [],
   "source": [
    "#         slope = np.tan(1*np.pi/2+ii*np.pi/180-ang)\n",
    "#         if slope == 0:\n",
    "#             slope = 0.000000001\n",
    "#         sData = slope+1/slope\n",
    "#         xPrime = (tempo[:,[1]]+1/slope*tempo[:,[0]])/sData\n",
    "#         yPrime = slope*xPrime\n",
    "#         dist = np.sqrt(np.square(xPrime)+np.square(yPrime))\n",
    "#         dist = dist.round(2)\n",
    "#         print(ii,slope)\n",
    "#         ff = np.sort(dist,axis=0)\n",
    "#         ff = ff[1]\n",
    "#         ind = np.where(dist <= np.min([0.5,ff.view()]))[0]\n",
    "# #         print(ii,slope,180-ii,sData,ff)\n",
    "#         yy = np.array(tempo[:,[1]],dtype=float)\n",
    "#         xx = np.array(tempo[:,[0]],dtype=float)\n",
    "#         zz = np.divide(yy,xx,out=np.zeros_like(yy),where=xx !=0)\n",
    "#         print(ii,slope,ff)\n",
    "#         print(dist)\n",
    "#         print('--------')\n",
    "#         indMax = [jj for jj in range(len(zz)) if yy[jj] >= zz[jj] and yy[jj] != 0 and zz[jj] != 0]\n",
    "#         indMin = [jj for jj in range(len(zz)) if yy[jj] < zz[jj]]\n",
    "#         print(ii,slope,ff,actualSlope)\n",
    "#         print('above_________________')\n",
    "#         print(indMax,dist[indMax])\n",
    "#         print('below_________________')\n",
    "#         print(indMin,dist[indMin])\n",
    "#         print('-----------------')"
   ]
  },
  {
   "cell_type": "code",
   "execution_count": null,
   "metadata": {
    "collapsed": true
   },
   "outputs": [],
   "source": []
  }
 ],
 "metadata": {
  "kernelspec": {
   "display_name": "Python 3",
   "language": "python",
   "name": "python3"
  },
  "language_info": {
   "codemirror_mode": {
    "name": "ipython",
    "version": 3
   },
   "file_extension": ".py",
   "mimetype": "text/x-python",
   "name": "python",
   "nbconvert_exporter": "python",
   "pygments_lexer": "ipython3",
   "version": "3.6.0"
  }
 },
 "nbformat": 4,
 "nbformat_minor": 2
}
