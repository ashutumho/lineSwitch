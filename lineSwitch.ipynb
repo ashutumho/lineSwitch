{
 "cells": [
  {
   "cell_type": "code",
   "execution_count": 1,
   "metadata": {
    "collapsed": true
   },
   "outputs": [],
   "source": [
    "import turtle\n",
    "import time\n",
    "import numpy as np\n",
    "import random"
   ]
  },
  {
   "cell_type": "code",
   "execution_count": 2,
   "metadata": {
    "collapsed": true
   },
   "outputs": [],
   "source": [
    "wn = turtle.Screen()\n",
    "wn.bgcolor(\"black\")\n",
    "wn.setup(width=600,height=600)\n",
    "wn.title(\"Line Plot\")\n",
    "wn.tracer(0)"
   ]
  },
  {
   "cell_type": "code",
   "execution_count": 3,
   "metadata": {
    "collapsed": false
   },
   "outputs": [],
   "source": [
    "#creating drawing pen\n",
    "pen = turtle.Turtle()\n",
    "pen.hideturtle()\n",
    "pen.speed(0)\n",
    "pen.pensize(3)"
   ]
  },
  {
   "cell_type": "code",
   "execution_count": 4,
   "metadata": {
    "collapsed": true
   },
   "outputs": [],
   "source": [
    "def plotDot(pen,coDic):\n",
    "    pen.color(\"red\")\n",
    "    pen.setheading(0)\n",
    "    pen.pensize(4)\n",
    "    for ii,jj in coDic:\n",
    "        pen.penup()\n",
    "        pen.goto(ii,jj)\n",
    "\n",
    "        pen.pendown()\n",
    "        pen.dot()\n",
    "    "
   ]
  },
  {
   "cell_type": "code",
   "execution_count": 89,
   "metadata": {
    "collapsed": false
   },
   "outputs": [],
   "source": [
    "def drawLine(l,pen,angle,x,y):\n",
    "    pen.pensize(2)\n",
    "    pen.up()\n",
    "    pen.goto(x,y)    \n",
    "    pen.color(\"green\")\n",
    "    pen.setheading(180)\n",
    "    pen.rt(angle)\n",
    "    pen.pendown()\n",
    "    pen.fd(l)\n",
    "    pen.bk(2*l)\n",
    "    pen.fd(l)\n"
   ]
  },
  {
   "cell_type": "code",
   "execution_count": 504,
   "metadata": {
    "collapsed": true
   },
   "outputs": [],
   "source": [
    "def distList(ii,ang,tempo):\n",
    "    distList = []\n",
    "    slopeOffset = [-1,0,1]\n",
    "    slope = np.tan(1*np.pi-ii*np.pi/180-ang)\n",
    "    if slope == 0:\n",
    "        slope = 0.000000001\n",
    "    sData = slope+1/slope\n",
    "#     slopeTu = np.sin(1*np.pi-ii*np.pi/180-ang)\n",
    "    slopeTu = np.cos(1*np.pi-ii*np.pi/180-ang)\n",
    "#     slopeTu = np.sqrt(1+np.square(1/slope)) \n",
    "    for jj in slopeOffset:\n",
    "        #working\n",
    "        xPrime = (tempo[:,[1]]+1/slope*tempo[:,[0]]-1*jj*slopeTu)/sData\n",
    "        yPrime = slope*(xPrime)+(jj*slopeTu)\n",
    "#         xPrime = (tempo[:,[1]]+1/slope*tempo[:,[0]]-1*jj*slopeTu)/sData\n",
    "#         yPrime = slope*(xPrime)+(jj*slopeTu)\n",
    "        dist = np.sqrt(np.square(xPrime-tempo[:,[0]])+np.square(yPrime-tempo[:,[1]]))\n",
    "        dist = dist.round(1)\n",
    "        distList.append(dist)\n",
    "    return np.array(distList)"
   ]
  },
  {
   "cell_type": "code",
   "execution_count": 505,
   "metadata": {
    "collapsed": false
   },
   "outputs": [
    {
     "data": {
      "text/plain": [
       "array([[160,  50],\n",
       "       [  0,   0],\n",
       "       [100, 100],\n",
       "       [  0, 100],\n",
       "       [100,   5]])"
      ]
     },
     "execution_count": 505,
     "metadata": {},
     "output_type": "execute_result"
    }
   ],
   "source": [
    "temp = np.array([[160,50],[0,0],[100,100],[0,100],[100,5]])\n",
    "# numb = 10\n",
    "# temp = np.random.randint(-150,150,[numb,2])\n",
    "# temp = np.array([[-200,200],[-150,78],[0,0],[100,100],[-100,100],[100,-150]])\n",
    "temp"
   ]
  },
  {
   "cell_type": "code",
   "execution_count": 506,
   "metadata": {
    "collapsed": false,
    "scrolled": true
   },
   "outputs": [
    {
     "name": "stdout",
     "output_type": "stream",
     "text": [
      "38.0\n",
      "[[[   0.6]\n",
      "  [ 138.5]\n",
      "  [   1.8]\n",
      "  [  59.7]\n",
      "  [  73. ]]\n",
      "\n",
      " [[   0. ]\n",
      "  [ 137.9]\n",
      "  [   2.5]\n",
      "  [  59.1]\n",
      "  [  72.4]]\n",
      "\n",
      " [[   0.6]\n",
      "  [ 137.3]\n",
      "  [   3.1]\n",
      "  [  58.5]\n",
      "  [  71.8]]]\n",
      "-------------\n",
      "38.5\n",
      "[[[   0.6]\n",
      "  [ 139.3]\n",
      "  [   1.2]\n",
      "  [  61.1]\n",
      "  [  73.2]]\n",
      "\n",
      " [[   0. ]\n",
      "  [ 138.7]\n",
      "  [   1.8]\n",
      "  [  60.5]\n",
      "  [  72.6]]\n",
      "\n",
      " [[   0.6]\n",
      "  [ 138.1]\n",
      "  [   2.4]\n",
      "  [  59.9]\n",
      "  [  72. ]]]\n",
      "-------------\n",
      "39.0\n",
      "[[[   0.6]\n",
      "  [ 140.2]\n",
      "  [   0.5]\n",
      "  [  62.4]\n",
      "  [  73.3]]\n",
      "\n",
      " [[   0. ]\n",
      "  [ 139.5]\n",
      "  [   1.1]\n",
      "  [  61.8]\n",
      "  [  72.7]]\n",
      "\n",
      " [[   0.6]\n",
      "  [ 138.9]\n",
      "  [   1.7]\n",
      "  [  61.2]\n",
      "  [  72.1]]]\n",
      "-------------\n",
      "39.5\n",
      "[[[   0.6]\n",
      "  [ 140.9]\n",
      "  [   0.2]\n",
      "  [  63.8]\n",
      "  [  73.5]]\n",
      "\n",
      " [[   0. ]\n",
      "  [ 140.4]\n",
      "  [   0.4]\n",
      "  [  63.2]\n",
      "  [  72.9]]\n",
      "\n",
      " [[   0.6]\n",
      "  [ 139.8]\n",
      "  [   1. ]\n",
      "  [  62.6]\n",
      "  [  72.3]]]\n",
      "-------------\n",
      "40.0\n",
      "[[[   0.6]\n",
      "  [ 141.7]\n",
      "  [   0.9]\n",
      "  [  65.1]\n",
      "  [  73.6]]\n",
      "\n",
      " [[   0. ]\n",
      "  [ 141.1]\n",
      "  [   0.3]\n",
      "  [  64.5]\n",
      "  [  73. ]]\n",
      "\n",
      " [[   0.6]\n",
      "  [ 140.6]\n",
      "  [   0.3]\n",
      "  [  64. ]\n",
      "  [  72.5]]]\n",
      "-------------\n",
      "40.5\n",
      "[[[   0.6]\n",
      "  [ 142.5]\n",
      "  [   1.5]\n",
      "  [  66.5]\n",
      "  [  73.8]]\n",
      "\n",
      " [[   0. ]\n",
      "  [ 141.9]\n",
      "  [   0.9]\n",
      "  [  65.9]\n",
      "  [  73.2]]\n",
      "\n",
      " [[   0.6]\n",
      "  [ 141.4]\n",
      "  [   0.4]\n",
      "  [  65.3]\n",
      "  [  72.6]]]\n",
      "-------------\n",
      "41.0\n",
      "[[[   0.6]\n",
      "  [ 143.3]\n",
      "  [   2.2]\n",
      "  [  67.8]\n",
      "  [  73.9]]\n",
      "\n",
      " [[   0. ]\n",
      "  [ 142.7]\n",
      "  [   1.6]\n",
      "  [  67.2]\n",
      "  [  73.3]]\n",
      "\n",
      " [[   0.6]\n",
      "  [ 142.1]\n",
      "  [   1.1]\n",
      "  [  66.7]\n",
      "  [  72.8]]]\n",
      "-------------\n",
      "41.5\n",
      "[[[   0.6]\n",
      "  [ 144. ]\n",
      "  [   2.9]\n",
      "  [  69.1]\n",
      "  [  74. ]]\n",
      "\n",
      " [[   0. ]\n",
      "  [ 143.5]\n",
      "  [   2.3]\n",
      "  [  68.6]\n",
      "  [  73.5]]\n",
      "\n",
      " [[   0.6]\n",
      "  [ 142.9]\n",
      "  [   1.7]\n",
      "  [  68. ]\n",
      "  [  72.9]]]\n",
      "-------------\n"
     ]
    }
   ],
   "source": [
    "tempo = temp\n",
    "tempo = tempo-tempo[0,:]\n",
    "index = np.array([0])\n",
    "x,y = temp[index,:][0]\n",
    "indList=[np.zeros([1]),np.zeros([1])]\n",
    "count = 0\n",
    "ang = 0\n",
    "prvInd = 0\n",
    "lastInd = 0\n",
    "indKyu =[np.zeros([1,2]),np.zeros([1,2])] \n",
    "for _ in range(1):\n",
    "    for ii in np.arange(38,42,0.5):\n",
    "        drawLine(600,pen,ii,x,y)\n",
    "        plotDot(pen,temp.tolist())\n",
    "        wn.update()\n",
    "        time.sleep(0.005)\n",
    "        pen.clear()\n",
    "        dist = distList(ii,ang,tempo)\n",
    "        offsetSum = np.sum(dist[[0,2],:],axis=0)\n",
    "        theta = np.array(offsetSum-offsetSum[index])\n",
    "        theta = theta.round(1)\n",
    "        indFind = np.where(theta <= 1)[0]\n",
    "        print(ii)\n",
    "        print(dist)\n",
    "\n",
    "#         if len(indFind)>=2 and np.abs(ii-lastInd) >= 3.0:\n",
    "#             print(ii,'in-condition')\n",
    "#             lastInd = ii\n",
    "#             indNxt = np.where(indFind != index)\n",
    "# #             print(tempo[indFind[indNxt]])\n",
    "#             index = indFind[indNxt]\n",
    "#             if len(index) > 1:\n",
    "#                 print('2 index')\n",
    "#                 ll= np.where(theta[index] == np.min(theta[index]))[0]\n",
    "#                 index = index[ll]\n",
    "#             indList.append(index)\n",
    "# #             print(indList,len(indList))\n",
    "#             aa = indList.pop(0)\n",
    "#             if aa == index:\n",
    "#                 print('continue')\n",
    "#                 continue\n",
    "# #             print(indList,len(indList),aa)\n",
    "#             x,y = temp[index,:][0]\n",
    "# #             print(tempo[index,:][0])\n",
    "#             tempo = tempo-tempo[index,:]\n",
    "# #             ang += np.pi\n",
    "            \n",
    "#             print(ii,index)\n",
    "#             print(temp[index,:][0])\n",
    "            \n",
    "        print('-------------')\n",
    "\n"
   ]
  },
  {
   "cell_type": "code",
   "execution_count": 465,
   "metadata": {
    "collapsed": false
   },
   "outputs": [
    {
     "data": {
      "text/plain": [
       "array([0])"
      ]
     },
     "execution_count": 465,
     "metadata": {},
     "output_type": "execute_result"
    }
   ],
   "source": [
    "ll= np.where(theta[index] == np.min(theta[index]))[0]\n",
    "ll"
   ]
  },
  {
   "cell_type": "code",
   "execution_count": 453,
   "metadata": {
    "collapsed": false
   },
   "outputs": [
    {
     "data": {
      "text/plain": [
       "array([1, 3])"
      ]
     },
     "execution_count": 453,
     "metadata": {},
     "output_type": "execute_result"
    }
   ],
   "source": [
    "index"
   ]
  },
  {
   "cell_type": "code",
   "execution_count": 358,
   "metadata": {
    "collapsed": false
   },
   "outputs": [
    {
     "data": {
      "text/plain": [
       "array([[-200,  200],\n",
       "       [-150,   78],\n",
       "       [   0,    0],\n",
       "       [ 100,  100],\n",
       "       [-100,  100],\n",
       "       [ 100, -150]])"
      ]
     },
     "execution_count": 358,
     "metadata": {},
     "output_type": "execute_result"
    }
   ],
   "source": [
    "temp"
   ]
  },
  {
   "cell_type": "code",
   "execution_count": 277,
   "metadata": {
    "collapsed": false
   },
   "outputs": [
    {
     "name": "stdout",
     "output_type": "stream",
     "text": [
      "[4] [0]\n"
     ]
    }
   ],
   "source": [
    "theta = offsetSum-offsetSum[index]\n",
    "i,j = np.where( theta==np.min(theta[np.nonzero(theta)]))\n",
    "print(i,j)"
   ]
  },
  {
   "cell_type": "code",
   "execution_count": 424,
   "metadata": {
    "collapsed": false
   },
   "outputs": [],
   "source": [
    "aa = [np.zeros(1),np.zeros(1)]"
   ]
  },
  {
   "cell_type": "code",
   "execution_count": 425,
   "metadata": {
    "collapsed": false
   },
   "outputs": [
    {
     "data": {
      "text/plain": [
       "array([ 0.])"
      ]
     },
     "execution_count": 425,
     "metadata": {},
     "output_type": "execute_result"
    }
   ],
   "source": [
    "aa.pop(0)"
   ]
  },
  {
   "cell_type": "markdown",
   "metadata": {},
   "source": []
  },
  {
   "cell_type": "code",
   "execution_count": null,
   "metadata": {
    "collapsed": false
   },
   "outputs": [],
   "source": [
    "yy = np.array(tempo[:,[1]],dtype=float)\n",
    "xx = np.array(tempo[:,[0]],dtype=float)\n",
    "zz = np.divide(yy,xx,out=np.zeros_like(yy),where=xx !=0)\n",
    "zz"
   ]
  },
  {
   "cell_type": "code",
   "execution_count": 147,
   "metadata": {
    "collapsed": false
   },
   "outputs": [
    {
     "data": {
      "text/plain": [
       "array([], dtype=float64)"
      ]
     },
     "execution_count": 147,
     "metadata": {},
     "output_type": "execute_result"
    }
   ],
   "source": [
    "cc = np.array([])\n",
    "cc"
   ]
  },
  {
   "cell_type": "code",
   "execution_count": null,
   "metadata": {
    "collapsed": false
   },
   "outputs": [],
   "source": [
    "# temp = np.array([[160,50],[0,0],[100,100],[0,100],[100,5]])\n",
    "# # temp = np.random.randint(-150,150,[8,2])\n",
    "# temp = np.array([[-200,200],[3,78],[0,0],[100,100],[-100,100],[100,-150]])\n",
    "# temp"
   ]
  },
  {
   "cell_type": "code",
   "execution_count": null,
   "metadata": {
    "collapsed": false
   },
   "outputs": [],
   "source": [
    "def slopeCounter(index,coDic):\n",
    "    tempo = coDic\n",
    "    slope = -np.tan(index*np.pi/180)#np.tan(2*np.pi*(180+index)/360)\n",
    "    if slope == 0:\n",
    "        slope = 0.000000001\n",
    "    sData = slope+1/slope\n",
    "    xPrime = (tempo[:,[1]]+1/slope*tempo[:,[0]])/sData\n",
    "    yPrime = slope*xPrime\n",
    "    dist = np.sqrt(np.square(xPrime)+np.square(yPrime))\n",
    "    dist = dist.round(2)\n",
    "    sortDist = np.sort(dist,axis=0)\n",
    "#     print(sortDist)\n",
    "    ind = np.where(dist == sortDist[1])[0]\n",
    "    return dist,sortDist[1],ind,slope"
   ]
  },
  {
   "cell_type": "code",
   "execution_count": null,
   "metadata": {
    "collapsed": false
   },
   "outputs": [],
   "source": [
    "tempo = temp\n",
    "tempo = tempo-tempo[0,:]\n",
    "index = 1\n",
    "indPre = slopeCounter(index,tempo)\n",
    "x,y = temp[index,:]\n",
    "count = np.array([0,0])\n",
    "indKyu =[np.zeros([1,2]),np.zeros([1,2])] \n",
    "tempCount = 0\n",
    "for _ in range(1):\n",
    "    for ii in np.arange(0, 47, 0.5):\n",
    "        drawLine(600,pen,ii,x,y)\n",
    "        plotDot(pen,temp.tolist())\n",
    "        wn.update()\n",
    "        time.sleep(0.005)\n",
    "        pen.clear()\n",
    "        distM,dist,ind,slope = slopeCounter(ii,tempo)\n",
    "#         print(ind.view())\n",
    "        if len(ind) == 2:\n",
    "            print('boom')\n",
    "            inx = np.where(ind.view() != indPre)[0]\n",
    "            ind = ind[inx]\n",
    "            x,y = temp[ind,:][0]\n",
    "            tempo = tempo - tempo[ind,:][0]\n",
    "        print(ii,ind.view(),x,y)\n",
    "#             if dist.item() <=0.5:\n",
    "#                 print('tt')\n",
    "#                 x,y = temp[ind,:][0]\n",
    "#                 tempo = tempo - tempo[ind,:][0]\n",
    "#         indPre = ind\n",
    "#         xx,yy = tempo[ind,:][0]\n",
    "#         print(ii,dist,ind)\n",
    "\n",
    "#         print(ii,tempo[index,:],dist,tempo[ind,:][0],slope)\n",
    "        prevInd = ind\n",
    "# #         prevSlope = "
   ]
  },
  {
   "cell_type": "code",
   "execution_count": null,
   "metadata": {
    "collapsed": false
   },
   "outputs": [],
   "source": [
    "for ii in np.arange(0, 2, 0.5):\n",
    "    slope = np.tan(ii*np.pi/180)\n",
    "    print(ii,slope)"
   ]
  },
  {
   "cell_type": "code",
   "execution_count": null,
   "metadata": {
    "collapsed": false
   },
   "outputs": [],
   "source": [
    "type(ind)"
   ]
  },
  {
   "cell_type": "code",
   "execution_count": null,
   "metadata": {
    "collapsed": false
   },
   "outputs": [],
   "source": [
    "wn.mainloop()"
   ]
  },
  {
   "cell_type": "code",
   "execution_count": null,
   "metadata": {
    "collapsed": true
   },
   "outputs": [],
   "source": []
  },
  {
   "cell_type": "code",
   "execution_count": null,
   "metadata": {
    "collapsed": false
   },
   "outputs": [],
   "source": [
    "i,j = np.where( theta==np.min(theta[np.nonzero(theta)]))"
   ]
  },
  {
   "cell_type": "code",
   "execution_count": null,
   "metadata": {
    "collapsed": false
   },
   "outputs": [],
   "source": [
    "preX"
   ]
  },
  {
   "cell_type": "code",
   "execution_count": null,
   "metadata": {
    "collapsed": false
   },
   "outputs": [],
   "source": [
    "aa.append(temp[1,:])"
   ]
  },
  {
   "cell_type": "code",
   "execution_count": null,
   "metadata": {
    "collapsed": false
   },
   "outputs": [],
   "source": [
    "kk = aa.pop(0)"
   ]
  },
  {
   "cell_type": "code",
   "execution_count": null,
   "metadata": {
    "collapsed": false
   },
   "outputs": [],
   "source": [
    "#         print(ii)\n",
    "#         print(np.sum(dist[[0,2],:],axis=0))\n",
    "#         print('************')\n",
    "#         print(dist[1])\n",
    "#         print('------------')"
   ]
  },
  {
   "cell_type": "code",
   "execution_count": null,
   "metadata": {
    "collapsed": false
   },
   "outputs": [],
   "source": [
    "#         if pp == 1:\n",
    "#             print(ii,indFind)\n",
    "#         print(ii)\n",
    "# #         print(dist[:,2])\n",
    "#         print(theta.round(1))\n",
    "#         print('--------')\n",
    "#         i,j = np.where( theta==np.min(theta[np.nonzero(theta)]))\n",
    "#         print(ii,i,theta[i],offsetSum[i],index)\n",
    "#         indFind = np.where(offsetSum == offsetSum[index])[0]"
   ]
  },
  {
   "cell_type": "code",
   "execution_count": null,
   "metadata": {
    "collapsed": false
   },
   "outputs": [],
   "source": [
    "#         print(dist)\n",
    "#         if x >= 0: # positive x-axix\n",
    "#             if y >= 0:  \n",
    "#         print(indMax)\n",
    "#         print(tempo[indMax])\n",
    "#         print('*****')\n",
    "#         print(indMin)\n",
    "#         print(tempo[indMin])\n",
    "# # #         indClose = np.min(dist[np.nonzero(dist)])\n",
    "# # #         print(indClose)\n",
    "# #         print('----')\n",
    "#         print(dist[indMin])\n",
    "# #         print(-slope*tempo[:,[0]]+tempo[:,[1]])\n",
    "# #         print(dist[indMax])\n",
    "# #         print(dist[indMin])\n",
    "#         print('--------')\n",
    "#         if ff.view() <= 0.5:\n",
    "#             yy = np.array(tempo[:,[1]],dtype=float)\n",
    "#             xx = np.array(tempo[:,[0]],dtype=float)\n",
    "# #             zz = np.divide(xx,yy,out=np.zeros_like(xx),where=yy !=0)\n",
    "#             zz = np.divide(yy,xx,out=np.zeros_like(yy),where=xx !=0)\n",
    "# #             zz = np.tan(np.pi-zz*np.pi/180)\n",
    "#             print(ii,slope)\n",
    "#             print(zz)\n",
    "#             print(dist)\n",
    "#         tt = np.divide(tempo[])\n",
    "#         print(np.min([0.5,ff.view()]))\n",
    "#         if ii - lastInd != 0.5:\n",
    "#             if len(ind) >= 2 or ff.view() <= 0.5 :\n",
    "#                 print(ii,'in loop')\n",
    "#                 tempInd = index\n",
    "#                 if len(ind) >= 2:\n",
    "#                     index = np.where(ind != index)[0]\n",
    "#                     index = ind[index]\n",
    "#                 else:\n",
    "#                     print('dd')\n",
    "#                     index = ind\n",
    "#                 if len(index) >= 2:\n",
    "#                     ee = np.where(index == np.min(index))\n",
    "#                     index = index[ee]\n",
    "#                 print(ind,index)\n",
    "#                 if index != prvInd:\n",
    "#                     tempo = tempo-tempo[index,:][0]\n",
    "#                     x,y = temp[index,:][0]\n",
    "#                     if preX != x and preY != y:\n",
    "#                         ang += np.pi\n",
    "#                         lastInd = ii\n",
    "#                         print('zzz')\n",
    "#                     print('yo')\n",
    "#                     prvInd = index\n",
    "# #                 lastInd = ii\n",
    "#                 preX = x\n",
    "#                 preY = y\n",
    "            "
   ]
  },
  {
   "cell_type": "code",
   "execution_count": null,
   "metadata": {
    "collapsed": true
   },
   "outputs": [],
   "source": [
    "#         slope = np.tan(1*np.pi/2+ii*np.pi/180-ang)\n",
    "#         if slope == 0:\n",
    "#             slope = 0.000000001\n",
    "#         sData = slope+1/slope\n",
    "#         xPrime = (tempo[:,[1]]+1/slope*tempo[:,[0]])/sData\n",
    "#         yPrime = slope*xPrime\n",
    "#         dist = np.sqrt(np.square(xPrime)+np.square(yPrime))\n",
    "#         dist = dist.round(2)\n",
    "#         print(ii,slope)\n",
    "#         ff = np.sort(dist,axis=0)\n",
    "#         ff = ff[1]\n",
    "#         ind = np.where(dist <= np.min([0.5,ff.view()]))[0]\n",
    "# #         print(ii,slope,180-ii,sData,ff)\n",
    "#         yy = np.array(tempo[:,[1]],dtype=float)\n",
    "#         xx = np.array(tempo[:,[0]],dtype=float)\n",
    "#         zz = np.divide(yy,xx,out=np.zeros_like(yy),where=xx !=0)\n",
    "#         print(ii,slope,ff)\n",
    "#         print(dist)\n",
    "#         print('--------')\n",
    "#         indMax = [jj for jj in range(len(zz)) if yy[jj] >= zz[jj] and yy[jj] != 0 and zz[jj] != 0]\n",
    "#         indMin = [jj for jj in range(len(zz)) if yy[jj] < zz[jj]]\n",
    "#         print(ii,slope,ff,actualSlope)\n",
    "#         print('above_________________')\n",
    "#         print(indMax,dist[indMax])\n",
    "#         print('below_________________')\n",
    "#         print(indMin,dist[indMin])\n",
    "#         print('-----------------')"
   ]
  },
  {
   "cell_type": "code",
   "execution_count": null,
   "metadata": {
    "collapsed": true
   },
   "outputs": [],
   "source": []
  }
 ],
 "metadata": {
  "kernelspec": {
   "display_name": "Python 3",
   "language": "python",
   "name": "python3"
  },
  "language_info": {
   "codemirror_mode": {
    "name": "ipython",
    "version": 3
   },
   "file_extension": ".py",
   "mimetype": "text/x-python",
   "name": "python",
   "nbconvert_exporter": "python",
   "pygments_lexer": "ipython3",
   "version": "3.6.0"
  }
 },
 "nbformat": 4,
 "nbformat_minor": 2
}
